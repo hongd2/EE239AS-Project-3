{
 "cells": [
  {
   "cell_type": "code",
   "execution_count": 6,
   "metadata": {
    "collapsed": false
   },
   "outputs": [],
   "source": [
    "import pandas as pd\n",
    "import numpy as np\n",
    "from sklearn import decomposition\n",
    "\n",
    "udata = pd.read_table('ml-100k/u.data', header=None, names=['user_id', 'item_id', 'rating', 'timestamp'])\n",
    "\n",
    "R = pd.DataFrame(index=range(0,943),columns=range(0,1682))\n",
    "R = R.fillna(0)\n",
    "\n",
    "for row in udata.itertuples():\n",
    "    R[row[1]-1][row[2]-1] = row[3]\n",
    "\n",
    "W = R.copy()\n",
    "W[W > 0] = 1"
   ]
  },
  {
   "cell_type": "code",
   "execution_count": 7,
   "metadata": {
    "collapsed": false
   },
   "outputs": [],
   "source": [
    "### Problem 1 ###\n",
    "k = [10, 50, 100]\n",
    "NMF_model10 = decomposition.NMF(k[0])\n",
    "NMF_model50 = decomposition.NMF(k[1])\n",
    "NMF_model100 = decomposition.NMF(k[2])\n",
    "\n",
    "U10 = NMF_model10.fit_transform(R)\n",
    "V10 = NMF_model10.components_\n",
    "U50 = NMF_model50.fit_transform(R)\n",
    "V50 = NMF_model50.components_\n",
    "U100 = NMF_model100.fit_transform(R)\n",
    "V100 = NMF_model100.components_\n",
    "\n",
    "def lse(w, r, u, v):\n",
    "    error = w*((r-u.dot(v))**2)\n",
    "    return error.sum().sum()\n",
    "    \n",
    "err10 = lse(W, R, U10, V10)\n",
    "err50 = lse(W, R, U50, V50)\n",
    "err100 = lse(W, R, U100, V100)"
   ]
  },
  {
   "cell_type": "code",
   "execution_count": 8,
   "metadata": {
    "collapsed": false
   },
   "outputs": [
    {
     "name": "stdout",
     "output_type": "stream",
     "text": [
      "For k = 10, the least squared error is 134898\n",
      "For k = 50, the least squared error is 95644\n",
      "For k = 100, the least squared error is 69918\n"
     ]
    }
   ],
   "source": [
    "print(\"For k = %d, the least squared error is %d\" % (k[0], err10))\n",
    "print(\"For k = %d, the least squared error is %d\" % (k[1], err50))\n",
    "print(\"For k = %d, the least squared error is %d\" % (k[2], err100))"
   ]
  },
  {
   "cell_type": "code",
   "execution_count": null,
   "metadata": {
    "collapsed": false
   },
   "outputs": [
    {
     "name": "stdout",
     "output_type": "stream",
     "text": [
      "test 1\n"
     ]
    }
   ],
   "source": [
    "### Problem 2 ###\n",
    "# k-fold\n",
    "from scipy.sparse import csr_matrix\n",
    "from sklearn.cross_validation import KFold\n",
    "import matplotlib.pyplot as plt\n",
    "\n",
    "A = csr_matrix(R.values)\n",
    "N = A.getnnz()\n",
    "nonzero_indices = zip(A.nonzero()[0], A.nonzero()[1])\n",
    "\n",
    "def abs_err(actual, u, v, w, size):\n",
    "    return abs(w*(u.dot(v) - actual)).sum().sum() / size\n",
    "\n",
    "#R[R==0] = np.nan\n",
    "err = []\n",
    "kf = KFold(n=N, n_folds=10, shuffle=True)\n",
    "for train_index, test_index in kf:\n",
    "    train = R.copy()\n",
    "    w = pd.DataFrame(index=range(0,943),columns=range(0,1682))\n",
    "    w.fillna(0)\n",
    "    print(\"test 1\")\n",
    "    for nonz in test_index:\n",
    "        train.iloc[A.nonzero()[0][nonz], A.nonzero()[1][nonz]] = 0\n",
    "        w.iloc[A.nonzero()[0][nonz], A.nonzero()[1][nonz]] = 1\n",
    "    print(\"test 2\")\n",
    "    test_size = len(test_index)\n",
    "    u = NMF_model100.fit_transform(train)\n",
    "    print(\"test 3\")\n",
    "    v = NMF_model100.components_\n",
    "    err.append(abs_err(R, u, v, w, test_size))  \n",
    "    print(\"test 4\")\n",
    "    break\n",
    "    \n",
    "\n",
    "    "
   ]
  },
  {
   "cell_type": "code",
   "execution_count": null,
   "metadata": {
    "collapsed": false
   },
   "outputs": [],
   "source": []
  },
  {
   "cell_type": "code",
   "execution_count": null,
   "metadata": {
    "collapsed": false
   },
   "outputs": [],
   "source": []
  },
  {
   "cell_type": "code",
   "execution_count": null,
   "metadata": {
    "collapsed": false
   },
   "outputs": [],
   "source": []
  },
  {
   "cell_type": "code",
   "execution_count": null,
   "metadata": {
    "collapsed": false
   },
   "outputs": [],
   "source": [
    "### Problem 3 ###\n",
    "precs = []\n",
    "recalls = []\n",
    "for threshold in range(1,6):\n",
    "    print \"Threshold = %d\" % threshold\n",
    "    test_result = u.dot(v)\n",
    "    pred = test_result.lookup(A.nonzero()[0][test_index], A.nonzero()[1][test_index])\n",
    "    true = R.lookup(A.nonzero()[0][test_index], A.nonzero()[1][test_index])\n",
    "    precision = np.sum(true[pred > threshold] > threshold) / float(np.sum(pred > threshold)) * 100\n",
    "    print \"precision: %.2f\\%\" % precision \n",
    "    recall = np.sum(pred[true > threshold] > threshold) / float(np.sum(true > threshold)) * 100\n",
    "    print \"recall: %.2f\\%\" % recall \n",
    "    precs.append(precision)\n",
    "    recalls.append(recall)\n",
    "cla()\n",
    "plt.plot(recalls, precs)\n",
    "plt.title(\"ROC Precision over Recall\")\n",
    "plt.xlabel('Recall (\\%)')\n",
    "plt.ylabel('Precision (\\%)')"
   ]
  }
 ],
 "metadata": {
  "kernelspec": {
   "display_name": "Python 3",
   "language": "python",
   "name": "python3"
  },
  "language_info": {
   "codemirror_mode": {
    "name": "ipython",
    "version": 3
   },
   "file_extension": ".py",
   "mimetype": "text/x-python",
   "name": "python",
   "nbconvert_exporter": "python",
   "pygments_lexer": "ipython3",
   "version": "3.4.4"
  }
 },
 "nbformat": 4,
 "nbformat_minor": 0
}
